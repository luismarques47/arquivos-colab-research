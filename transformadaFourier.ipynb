{
  "nbformat": 4,
  "nbformat_minor": 0,
  "metadata": {
    "kernelspec": {
      "display_name": "Python 3",
      "language": "python",
      "name": "python3"
    },
    "language_info": {
      "codemirror_mode": {
        "name": "ipython",
        "version": 3
      },
      "file_extension": ".py",
      "mimetype": "text/x-python",
      "name": "python",
      "nbconvert_exporter": "python",
      "pygments_lexer": "ipython3",
      "version": "3.7.0"
    },
    "colab": {
      "name": "Copy of HW17.ipynb",
      "provenance": [],
      "include_colab_link": true
    }
  },
  "cells": [
    {
      "cell_type": "markdown",
      "metadata": {
        "id": "view-in-github",
        "colab_type": "text"
      },
      "source": [
        "<a href=\"https://colab.research.google.com/github/luismarques47/arquivos-colab-research/blob/master/transformadaFourier.ipynb\" target=\"_parent\"><img src=\"https://colab.research.google.com/assets/colab-badge.svg\" alt=\"Open In Colab\"/></a>"
      ]
    },
    {
      "cell_type": "markdown",
      "metadata": {
        "id": "y57N9w2KzLPT"
      },
      "source": [
        "# Números complexos\n",
        "## Symbolic math\n",
        "\n",
        "### Transformada de Fourier\n",
        "\n",
        "\n",
        "Import the library needed for using symbolic math in python. Also setup the notebook for printing."
      ]
    },
    {
      "cell_type": "code",
      "metadata": {
        "collapsed": true,
        "id": "nTn7sTTMzLPW"
      },
      "source": [
        "import sympy as sp\n",
        "sp.init_printing()\n",
        "from sympy import re, im, I, E, symbols\n"
      ],
      "execution_count": 12,
      "outputs": []
    },
    {
      "cell_type": "code",
      "source": [
        "w = sp.Symbol('w')\n",
        "Z = sp.Function('Z')\n",
        "Z = 1/(1/2)+1/(1/(I*w))\n",
        "Z = 1/Z\n",
        "Z"
      ],
      "metadata": {
        "id": "y1OFOASCsYwe",
        "outputId": "e37e40cd-42e7-48ec-b9ce-b20fd5ee605a",
        "colab": {
          "base_uri": "https://localhost:8080/",
          "height": 52
        }
      },
      "execution_count": 30,
      "outputs": [
        {
          "output_type": "execute_result",
          "data": {
            "text/plain": [
              "    1    \n",
              "─────────\n",
              "ⅈ⋅w + 2.0"
            ],
            "text/latex": "$\\displaystyle \\frac{1}{i w + 2.0}$"
          },
          "metadata": {},
          "execution_count": 30
        }
      ]
    },
    {
      "cell_type": "code",
      "source": [
        "Z = Z/(1+Z)\n",
        "Z = sp.simplify(Z)  \n",
        "Z"
      ],
      "metadata": {
        "id": "Wr6N3FKJwFdr",
        "outputId": "3ab31abd-3e77-475d-8131-ba01fc6d688a",
        "colab": {
          "base_uri": "https://localhost:8080/",
          "height": 52
        }
      },
      "execution_count": 32,
      "outputs": [
        {
          "output_type": "execute_result",
          "data": {
            "text/plain": [
              "    1    \n",
              "─────────\n",
              "ⅈ⋅w + 3.0"
            ],
            "text/latex": "$\\displaystyle \\frac{1}{i w + 3.0}$"
          },
          "metadata": {},
          "execution_count": 32
        }
      ]
    },
    {
      "cell_type": "code",
      "source": [
        "Vo = sp.Function('Vo')\n",
        "Vo = 1/(5+I*w)*Z\n",
        "Vo"
      ],
      "metadata": {
        "id": "N5w-bHcGxwg0",
        "outputId": "80f818af-e65a-4998-87db-4e3985aa600f",
        "colab": {
          "base_uri": "https://localhost:8080/",
          "height": 55
        }
      },
      "execution_count": 33,
      "outputs": [
        {
          "output_type": "execute_result",
          "data": {
            "text/plain": [
              "          1          \n",
              "─────────────────────\n",
              "(ⅈ⋅w + 3.0)⋅(ⅈ⋅w + 5)"
            ],
            "text/latex": "$\\displaystyle \\frac{1}{\\left(i w + 3.0\\right) \\left(i w + 5\\right)}$"
          },
          "metadata": {},
          "execution_count": 33
        }
      ]
    },
    {
      "cell_type": "code",
      "source": [
        "Vo = sp.apart(Vo)\n",
        "Vo"
      ],
      "metadata": {
        "id": "VJnT1pDryYYB",
        "outputId": "9f81242b-01c0-4b99-fb7e-4fbea8781950",
        "colab": {
          "base_uri": "https://localhost:8080/",
          "height": 52
        }
      },
      "execution_count": 34,
      "outputs": [
        {
          "output_type": "execute_result",
          "data": {
            "text/plain": [
              "         1.0         \n",
              "─────────────────────\n",
              "   2                 \n",
              "- w  + 8.0⋅ⅈ⋅w + 15.0"
            ],
            "text/latex": "$\\displaystyle \\frac{1.0}{- 1.0 w^{2} + 8.0 i w + 15.0}$"
          },
          "metadata": {},
          "execution_count": 34
        }
      ]
    }
  ]
}