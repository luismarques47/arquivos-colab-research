{
  "nbformat": 4,
  "nbformat_minor": 0,
  "metadata": {
    "kernelspec": {
      "display_name": "Python 3",
      "language": "python",
      "name": "python3"
    },
    "language_info": {
      "codemirror_mode": {
        "name": "ipython",
        "version": 3
      },
      "file_extension": ".py",
      "mimetype": "text/x-python",
      "name": "python",
      "nbconvert_exporter": "python",
      "pygments_lexer": "ipython3",
      "version": "3.7.0"
    },
    "colab": {
      "name": "Copy of HW17.ipynb",
      "provenance": [],
      "include_colab_link": true
    }
  },
  "cells": [
    {
      "cell_type": "markdown",
      "metadata": {
        "id": "view-in-github",
        "colab_type": "text"
      },
      "source": [
        "<a href=\"https://colab.research.google.com/github/luismarques47/arquivos-colab-research/blob/master/integral_convolucao.ipynb\" target=\"_parent\"><img src=\"https://colab.research.google.com/assets/colab-badge.svg\" alt=\"Open In Colab\"/></a>"
      ]
    },
    {
      "cell_type": "markdown",
      "metadata": {
        "id": "y57N9w2KzLPT"
      },
      "source": [
        "# Integral de convolução\n",
        "\n",
        "Import the library needed for using symbolic math in python. Also setup the notebook for printing."
      ]
    },
    {
      "cell_type": "code",
      "metadata": {
        "collapsed": true,
        "id": "nTn7sTTMzLPW"
      },
      "source": [
        "import sympy as sp\n",
        "sp.init_printing()\n"
      ],
      "execution_count": 1,
      "outputs": []
    },
    {
      "cell_type": "code",
      "metadata": {
        "collapsed": true,
        "id": "ZTeDNMh9zLPX"
      },
      "source": [
        "t = sp.Symbol('t')\n",
        "T = sp.Symbol('T')\n",
        "g = sp.Function('g')\n",
        "x = sp.Function('x')\n",
        "h = sp.Function('h')\n",
        "\n"
      ],
      "execution_count": 11,
      "outputs": []
    },
    {
      "cell_type": "markdown",
      "metadata": {
        "id": "284SFec7zLPc"
      },
      "source": [
        "#### Part b\n",
        "Soluciona a integral de convolucao:\n",
        "$$\\int_0^tx(T)h(t-T)dT.$$\n",
        "\n",
        "Then evaluate the integral symbolically."
      ]
    },
    {
      "cell_type": "code",
      "metadata": {
        "collapsed": true,
        "colab": {
          "base_uri": "https://localhost:8080/",
          "height": 47
        },
        "id": "OONgJ4ZjzLPd",
        "outputId": "d68b1e8a-ffd1-4af6-f5b4-4f419eec0968"
      },
      "source": [
        "x = 3*sp.exp((-2*T))\n",
        "h = (t-T)*sp.exp(-(t-T))\n",
        "g = sp.integrate (x*h, (T, 0, t))\n",
        "g\n",
        "# solução algébrica\n",
        "sp.simplify(g)\n"
      ],
      "execution_count": 16,
      "outputs": [
        {
          "output_type": "execute_result",
          "data": {
            "text/plain": [
              "  ⎛       _______    ⎞    \n",
              "  ⎜      ╱  -2⋅t     ⎟  -t\n",
              "3⋅⎝t + ╲╱  ℯ      - 1⎠⋅ℯ  "
            ],
            "text/latex": "$\\displaystyle 3 \\left(t + \\sqrt{e^{- 2 t}} - 1\\right) e^{- t}$"
          },
          "metadata": {},
          "execution_count": 16
        }
      ]
    }
  ]
}