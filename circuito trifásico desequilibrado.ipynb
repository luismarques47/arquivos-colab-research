{
  "nbformat": 4,
  "nbformat_minor": 0,
  "metadata": {
    "colab": {
      "provenance": [],
      "authorship_tag": "ABX9TyNEBUl6+BNwk1uiqyv6phar",
      "include_colab_link": true
    },
    "kernelspec": {
      "name": "python3",
      "display_name": "Python 3"
    },
    "language_info": {
      "name": "python"
    }
  },
  "cells": [
    {
      "cell_type": "markdown",
      "metadata": {
        "id": "view-in-github",
        "colab_type": "text"
      },
      "source": [
        "<a href=\"https://colab.research.google.com/github/luismarques47/arquivos-colab-research/blob/master/circuito%20trif%C3%A1sico%20desequilibrado.ipynb\" target=\"_parent\"><img src=\"https://colab.research.google.com/assets/colab-badge.svg\" alt=\"Open In Colab\"/></a>"
      ]
    },
    {
      "cell_type": "code",
      "execution_count": 42,
      "metadata": {
        "id": "DA41Xl2K9Uej"
      },
      "outputs": [],
      "source": [
        "import math as mt\n",
        "import sympy as sp\n",
        "import cmath as cmt\n",
        "from sympy import I\n"
      ]
    },
    {
      "cell_type": "markdown",
      "source": [
        "Convertendo as tensões trifásicas ligadas em triângulo"
      ],
      "metadata": {
        "id": "XDL5IsdS9x32"
      }
    },
    {
      "cell_type": "code",
      "source": [
        "Van = cmt.rect(127,(-30*mt.pi)/180)\n",
        "\n",
        "Vbn = Van*(-0.5000 - 0.8660j)\n",
        "Vbn\n",
        "Vcn = Van*(-0.5000 + 0.8660j)\n",
        "Vcn\n",
        "\n",
        "\n"
      ],
      "metadata": {
        "colab": {
          "base_uri": "https://localhost:8080/"
        },
        "id": "LOfYG4iX94k0",
        "outputId": "37e25350-1ae7-444b-8866-eb7f21297856"
      },
      "execution_count": 75,
      "outputs": [
        {
          "output_type": "execute_result",
          "data": {
            "text/plain": [
              "(-0.0016131403118677667+126.99720595902014j)"
            ]
          },
          "metadata": {},
          "execution_count": 75
        }
      ]
    },
    {
      "cell_type": "markdown",
      "source": [
        "determinando as impedância em estrela"
      ],
      "metadata": {
        "id": "w56TINcfCQqo"
      }
    },
    {
      "cell_type": "code",
      "source": [
        "Z1 = (-5j*10)/(-5j+10+10j)\n",
        "\n"
      ],
      "metadata": {
        "id": "ddQ6qiK6CWh2"
      },
      "execution_count": 76,
      "outputs": []
    },
    {
      "cell_type": "code",
      "source": [
        "Z2 = (-5j*10j)/(-5j+10+10j)\n"
      ],
      "metadata": {
        "id": "-yrUaQ6kCjWT"
      },
      "execution_count": 77,
      "outputs": []
    },
    {
      "cell_type": "code",
      "source": [
        "Z3 = (10*10j)/(-5j+10+10j)\n"
      ],
      "metadata": {
        "id": "Gt9IHFtsCqfx"
      },
      "execution_count": 78,
      "outputs": []
    },
    {
      "cell_type": "markdown",
      "source": [
        "Resolvendo as equações para I1 e I2"
      ],
      "metadata": {
        "id": "2Mxma0MVDG6r"
      }
    },
    {
      "cell_type": "code",
      "source": [
        "I1 , I2 = sp.symbols('I1,I2')\n",
        "eq1 = sp.Eq(Vbn - Van +Z1*I1+Z2*(I1-I2),0)\n",
        "eq2 = sp.Eq(Vcn - Vbn +Z3*I2+Z2*(I2-I1),0)\n",
        "\n",
        "\n",
        "solucoes = sp.solve([eq1,eq2],[I1,I2])\n",
        "solucoes\n"
      ],
      "metadata": {
        "colab": {
          "base_uri": "https://localhost:8080/"
        },
        "id": "rb5ZITwvDK4R",
        "outputId": "32cc088d-0b2e-45dc-bf1e-e0cf667735dd"
      },
      "execution_count": 79,
      "outputs": [
        {
          "output_type": "execute_result",
          "data": {
            "text/plain": [
              "{I1: 10.9992427502896 + 24.9440472882852*I,\n",
              " I2: -8.0507572497104 - 8.05152059590199*I}"
            ]
          },
          "metadata": {},
          "execution_count": 79
        }
      ]
    },
    {
      "cell_type": "code",
      "source": [
        "print(solucoes.keys())"
      ],
      "metadata": {
        "colab": {
          "base_uri": "https://localhost:8080/"
        },
        "id": "uxPMaF2bu2ET",
        "outputId": "710eeea4-b828-4280-d0cb-681426a40169"
      },
      "execution_count": 80,
      "outputs": [
        {
          "output_type": "stream",
          "name": "stdout",
          "text": [
            "dict_keys([I1, I2])\n"
          ]
        }
      ]
    },
    {
      "cell_type": "code",
      "source": [
        "I1_numerico = complex(solucoes[I1])\n",
        "I2_numerico = complex(solucoes[I2])"
      ],
      "metadata": {
        "id": "Dx9dJoOwI_wP"
      },
      "execution_count": 81,
      "outputs": []
    },
    {
      "cell_type": "code",
      "source": [
        "Ia = cmt.polar(I1_numerico)\n",
        "Ia"
      ],
      "metadata": {
        "colab": {
          "base_uri": "https://localhost:8080/"
        },
        "id": "PyxXnC8ivPBo",
        "outputId": "372e9640-dd31-4581-bb85-03495e1874a3"
      },
      "execution_count": 82,
      "outputs": [
        {
          "output_type": "execute_result",
          "data": {
            "text/plain": [
              "(27.261489984958757, 1.1554882781772238)"
            ]
          },
          "metadata": {},
          "execution_count": 82
        }
      ]
    },
    {
      "cell_type": "code",
      "source": [
        "PHASE = (cmt.phase(I1_numerico)*180)/mt.pi\n",
        "PHASE"
      ],
      "metadata": {
        "colab": {
          "base_uri": "https://localhost:8080/"
        },
        "id": "QYYhMYNkvnln",
        "outputId": "a4293497-f8e6-4477-c404-e29509d26264"
      },
      "execution_count": 83,
      "outputs": [
        {
          "output_type": "execute_result",
          "data": {
            "text/plain": [
              "66.20460161639335"
            ]
          },
          "metadata": {},
          "execution_count": 83
        }
      ]
    },
    {
      "cell_type": "code",
      "source": [
        "Ic = cmt.polar(-I2_numerico)\n",
        "Ic"
      ],
      "metadata": {
        "colab": {
          "base_uri": "https://localhost:8080/"
        },
        "id": "cyp5b8zhxzCW",
        "outputId": "17a56325-cab4-422c-8f77-7bc08a84ae50"
      },
      "execution_count": 84,
      "outputs": [
        {
          "output_type": "execute_result",
          "data": {
            "text/plain": [
              "(11.38602986997656, 0.7854455694972766)"
            ]
          },
          "metadata": {},
          "execution_count": 84
        }
      ]
    },
    {
      "cell_type": "code",
      "source": [
        "PHASE = (cmt.phase(-I2_numerico)*180)/mt.pi\n",
        "PHASE"
      ],
      "metadata": {
        "colab": {
          "base_uri": "https://localhost:8080/"
        },
        "id": "gJ87vAB-x5z5",
        "outputId": "6dbc5042-a780-4f6d-849f-9484f4c37c8a"
      },
      "execution_count": 85,
      "outputs": [
        {
          "output_type": "execute_result",
          "data": {
            "text/plain": [
              "45.00271616944334"
            ]
          },
          "metadata": {},
          "execution_count": 85
        }
      ]
    },
    {
      "cell_type": "code",
      "source": [
        "Ib = cmt.polar(I2_numerico-I1_numerico)\n",
        "Ib"
      ],
      "metadata": {
        "colab": {
          "base_uri": "https://localhost:8080/"
        },
        "id": "hZOkBznA3aPn",
        "outputId": "46d381db-7142-4071-8ae2-b5abd4d42521"
      },
      "execution_count": 70,
      "outputs": [
        {
          "output_type": "execute_result",
          "data": {
            "text/plain": [
              "(25.45584412271571, 2.356194490192345)"
            ]
          },
          "metadata": {},
          "execution_count": 70
        }
      ]
    },
    {
      "cell_type": "code",
      "source": [
        "PHASE = (cmt.phase(I2_numerico-I1_numerico)*180)/mt.pi\n",
        "PHASE"
      ],
      "metadata": {
        "colab": {
          "base_uri": "https://localhost:8080/"
        },
        "id": "PVc3V7_l3pSq",
        "outputId": "ec846c4d-0e48-4aba-edaa-5542603e3404"
      },
      "execution_count": 72,
      "outputs": [
        {
          "output_type": "execute_result",
          "data": {
            "text/plain": [
              "135.0"
            ]
          },
          "metadata": {},
          "execution_count": 72
        }
      ]
    }
  ]
}