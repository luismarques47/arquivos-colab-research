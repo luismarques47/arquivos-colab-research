{
  "nbformat": 4,
  "nbformat_minor": 0,
  "metadata": {
    "colab": {
      "name": "Untitled0.ipynb",
      "provenance": [],
      "authorship_tag": "ABX9TyMvrf3IGqHgJ1j0Z4Q0G9jZ",
      "include_colab_link": true
    },
    "kernelspec": {
      "name": "python3",
      "display_name": "Python 3"
    },
    "language_info": {
      "name": "python"
    }
  },
  "cells": [
    {
      "cell_type": "markdown",
      "metadata": {
        "id": "view-in-github",
        "colab_type": "text"
      },
      "source": [
        "<a href=\"https://colab.research.google.com/github/luismarques47/arquivos-colab-research/blob/master/sistemadeequacoes_numeros_complexos.ipynb\" target=\"_parent\"><img src=\"https://colab.research.google.com/assets/colab-badge.svg\" alt=\"Open In Colab\"/></a>"
      ]
    },
    {
      "cell_type": "code",
      "metadata": {
        "id": "b2QhltDNVjeJ"
      },
      "source": [
        "import sympy as sp\n",
        "import cmath"
      ],
      "execution_count": 3,
      "outputs": []
    },
    {
      "cell_type": "code",
      "source": [
        "a = 3+4j\n",
        "b= 4+3j\n",
        "a+b"
      ],
      "metadata": {
        "colab": {
          "base_uri": "https://localhost:8080/"
        },
        "id": "pap7cojIZll1",
        "outputId": "75d193d1-fdc7-4957-adb2-3438c0db5120"
      },
      "execution_count": 7,
      "outputs": [
        {
          "output_type": "execute_result",
          "data": {
            "text/plain": [
              "(7+7j)"
            ]
          },
          "metadata": {},
          "execution_count": 7
        }
      ]
    },
    {
      "cell_type": "markdown",
      "metadata": {
        "id": "qNDMw_mkDMgj"
      },
      "source": [
        "colab.research.google.com\n"
      ]
    },
    {
      "cell_type": "code",
      "metadata": {
        "colab": {
          "base_uri": "https://localhost:8080/"
        },
        "id": "H74kr-CAES5V",
        "outputId": "fa9b7635-c293-4fdd-d3e2-709c3dc87869"
      },
      "source": [
        "v , i = sp.symbols('v,i')\n",
        "eq1 = sp.Eq((v-20)/(40+10j)-4*i+v/(20j)+v/10,0)\n",
        "eq2 = sp.Eq(-20+40*i+10j*i+v,0)\n",
        "\n",
        "\n",
        "sp.solve([eq1,eq2],[v,i])\n"
      ],
      "execution_count": 9,
      "outputs": [
        {
          "output_type": "execute_result",
          "data": {
            "text/plain": [
              "{v: 10.4109589041096 + 1.0958904109589*I,\n",
              " i: 0.219178082191781 - 0.0821917808219178*I}"
            ]
          },
          "metadata": {},
          "execution_count": 9
        }
      ]
    }
  ]
}