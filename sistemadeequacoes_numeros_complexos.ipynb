{
  "nbformat": 4,
  "nbformat_minor": 0,
  "metadata": {
    "colab": {
      "name": "Untitled0.ipynb",
      "provenance": [],
      "authorship_tag": "ABX9TyM2iPht5082JPZQnAVWxzmt",
      "include_colab_link": true
    },
    "kernelspec": {
      "name": "python3",
      "display_name": "Python 3"
    },
    "language_info": {
      "name": "python"
    }
  },
  "cells": [
    {
      "cell_type": "markdown",
      "metadata": {
        "id": "view-in-github",
        "colab_type": "text"
      },
      "source": [
        "<a href=\"https://colab.research.google.com/github/luismarques47/arquivos-colab-research/blob/master/sistemadeequacoes_numeros_complexos.ipynb\" target=\"_parent\"><img src=\"https://colab.research.google.com/assets/colab-badge.svg\" alt=\"Open In Colab\"/></a>"
      ]
    },
    {
      "cell_type": "code",
      "metadata": {
        "id": "b2QhltDNVjeJ"
      },
      "source": [
        "import sympy as sp\n",
        "import cmath"
      ],
      "execution_count": 1,
      "outputs": []
    },
    {
      "cell_type": "code",
      "source": [
        "a = 3+4j\n",
        "b= 4+3j\n",
        "a+b"
      ],
      "metadata": {
        "colab": {
          "base_uri": "https://localhost:8080/"
        },
        "id": "pap7cojIZll1",
        "outputId": "75d193d1-fdc7-4957-adb2-3438c0db5120"
      },
      "execution_count": null,
      "outputs": [
        {
          "output_type": "execute_result",
          "data": {
            "text/plain": [
              "(7+7j)"
            ]
          },
          "metadata": {},
          "execution_count": 7
        }
      ]
    },
    {
      "cell_type": "markdown",
      "metadata": {
        "id": "qNDMw_mkDMgj"
      },
      "source": [
        "colab.research.google.com\n"
      ]
    },
    {
      "cell_type": "code",
      "metadata": {
        "colab": {
          "base_uri": "https://localhost:8080/"
        },
        "id": "H74kr-CAES5V",
        "outputId": "cd0d9136-929a-4cbe-b211-7a53dad2354a"
      },
      "source": [
        "v1 , v2 = sp.symbols('v1,v2')\n",
        "eq1 = sp.Eq((v1+1+1j)/(2j) + v1/2 + (v1-v2)/(-2j),0)\n",
        "eq2 = sp.Eq(v2/(-2j) -2*(0.5-0.5j) + (v2-v1)/(-2j),0)\n",
        "\n",
        "\n",
        "sp.solve([eq1,eq2],[v1,v2])\n"
      ],
      "execution_count": 6,
      "outputs": [
        {
          "output_type": "execute_result",
          "data": {
            "text/plain": [
              "{v1: 0.0, v2: -1.0 - 1.0*I}"
            ]
          },
          "metadata": {},
          "execution_count": 6
        }
      ]
    }
  ]
}