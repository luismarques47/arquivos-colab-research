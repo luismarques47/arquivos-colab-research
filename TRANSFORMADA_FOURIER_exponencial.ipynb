{
  "nbformat": 4,
  "nbformat_minor": 0,
  "metadata": {
    "colab": {
      "name": "TRANSFORMADA_FOURIER.ipynb",
      "provenance": [],
      "include_colab_link": true
    },
    "kernelspec": {
      "name": "python3",
      "display_name": "Python 3"
    },
    "language_info": {
      "name": "python"
    }
  },
  "cells": [
    {
      "cell_type": "markdown",
      "metadata": {
        "id": "view-in-github",
        "colab_type": "text"
      },
      "source": [
        "<a href=\"https://colab.research.google.com/github/luismarques47/arquivos-colab-research/blob/master/TRANSFORMADA_FOURIER_exponencial.ipynb\" target=\"_parent\"><img src=\"https://colab.research.google.com/assets/colab-badge.svg\" alt=\"Open In Colab\"/></a>"
      ]
    },
    {
      "cell_type": "markdown",
      "metadata": {
        "id": "LezVMGNt98f5"
      },
      "source": [
        "# ***Transformada de Fourier p/ x(t)=e^-2tu(t)***"
      ]
    },
    {
      "cell_type": "code",
      "metadata": {
        "colab": {
          "base_uri": "https://localhost:8080/",
          "height": 38
        },
        "id": "oC56cmhgH__X",
        "outputId": "121f02c5-6aff-43af-a782-0d5d52fccae5"
      },
      "source": [
        "import sympy as sp\n",
        "from sympy import I,oo\n",
        "\n",
        "\n",
        "t, w = sp.symbols('t w')\n",
        "\n",
        "f = sp.Function('f')\n",
        "f= sp.exp(-2*t)\n",
        "f\n",
        "\n"
      ],
      "execution_count": 5,
      "outputs": [
        {
          "output_type": "execute_result",
          "data": {
            "text/latex": "$\\displaystyle e^{- 2 t}$",
            "text/plain": [
              "exp(-2*t)"
            ]
          },
          "metadata": {},
          "execution_count": 5
        }
      ]
    },
    {
      "cell_type": "code",
      "metadata": {
        "id": "TTD0ERAF_FRa",
        "outputId": "2b53593f-65d7-4976-afcb-5d5f52cce802",
        "colab": {
          "base_uri": "https://localhost:8080/",
          "height": 296
        }
      },
      "source": [
        "sp.plot(f ,(t,0,5));"
      ],
      "execution_count": 6,
      "outputs": [
        {
          "output_type": "display_data",
          "data": {
            "image/png": "[encoded data removed]",
            "text/plain": [
              "<Figure size 432x288 with 1 Axes>"
            ]
          },
          "metadata": {
            "needs_background": "light"
          }
        }
      ]
    },
    {
      "cell_type": "markdown",
      "metadata": {
        "id": "R64VTEC3KZ6r"
      },
      "source": [
        "# ***Transformada de Fourier***"
      ]
    },
    {
      "cell_type": "code",
      "metadata": {
        "id": "GksZgXlDVg1E",
        "colab": {
          "base_uri": "https://localhost:8080/",
          "height": 90
        },
        "outputId": "17239461-19af-4845-8059-e7d24c75efad"
      },
      "source": [
        "g = sp.Function('g')\n",
        "g = f*sp.exp(-I*w*t)\n",
        "X = sp.integrate(g,(t,0,oo))\n",
        "X"
      ],
      "execution_count": 7,
      "outputs": [
        {
          "output_type": "execute_result",
          "data": {
            "text/latex": "$\\displaystyle \\begin{cases} \\frac{1}{2 \\left(\\frac{i w}{2} + 1\\right)} & \\text{for}\\: \\left|{\\arg{\\left(w \\right)} + \\frac{\\pi}{2}}\\right| \\leq \\frac{\\pi}{2} \\\\\\int\\limits_{0}^{\\infty} e^{- 2 t} e^{- i t w}\\, dt & \\text{otherwise} \\end{cases}$",
            "text/plain": [
              "Piecewise((1/(2*(I*w/2 + 1)), Abs(arg(w) + pi/2) <= pi/2), (Integral(exp(-2*t)*exp(-I*t*w), (t, 0, oo)), True))"
            ]
          },
          "metadata": {},
          "execution_count": 7
        }
      ]
    },
    {
      "cell_type": "markdown",
      "metadata": {
        "id": "jn47yUu2YG0t"
      },
      "source": [
        "# **GRÁFICO PARA X(W)**"
      ]
    },
    {
      "cell_type": "code",
      "metadata": {
        "id": "4euk1CtUYLUx",
        "colab": {
          "base_uri": "https://localhost:8080/",
          "height": 314
        },
        "outputId": "8c6c80ac-e2ab-4f70-da50-2ef87d30f28c"
      },
      "source": [
        "h = sp.Function('h')\n",
        "h = 1/(2+I*w)\n",
        "sp.plot(sp.Abs(h), (w, -50, 50))"
      ],
      "execution_count": 8,
      "outputs": [
        {
          "output_type": "display_data",
          "data": {
            "image/png": "[encoded data removed]",
            "text/plain": [
              "<Figure size 432x288 with 1 Axes>"
            ]
          },
          "metadata": {
            "needs_background": "light"
          }
        },
        {
          "output_type": "execute_result",
          "data": {
            "text/plain": [
              "<sympy.plotting.plot.Plot at 0x7f0848ae12d0>"
            ]
          },
          "metadata": {},
          "execution_count": 8
        }
      ]
    }
  ]
}