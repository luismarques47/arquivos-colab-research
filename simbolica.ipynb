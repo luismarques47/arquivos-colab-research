{
  "nbformat": 4,
  "nbformat_minor": 0,
  "metadata": {
    "kernelspec": {
      "display_name": "Python 3",
      "language": "python",
      "name": "python3"
    },
    "language_info": {
      "codemirror_mode": {
        "name": "ipython",
        "version": 3
      },
      "file_extension": ".py",
      "mimetype": "text/x-python",
      "name": "python",
      "nbconvert_exporter": "python",
      "pygments_lexer": "ipython3",
      "version": "3.7.0"
    },
    "colab": {
      "name": "Copy of HW17.ipynb",
      "provenance": [],
      "include_colab_link": true
    }
  },
  "cells": [
    {
      "cell_type": "markdown",
      "metadata": {
        "id": "view-in-github",
        "colab_type": "text"
      },
      "source": [
        "<a href=\"https://colab.research.google.com/github/luismarques47/arquivos-colab-research/blob/master/simbolica.ipynb\" target=\"_parent\"><img src=\"https://colab.research.google.com/assets/colab-badge.svg\" alt=\"Open In Colab\"/></a>"
      ]
    },
    {
      "cell_type": "markdown",
      "metadata": {
        "id": "y57N9w2KzLPT"
      },
      "source": [
        "# Homework 17\n",
        "## Symbolic math\n",
        "\n",
        "### Problem 1\n",
        "#### Part a\n",
        "\n",
        "Import the library needed for using symbolic math in python. Also setup the notebook for printing."
      ]
    },
    {
      "cell_type": "code",
      "metadata": {
        "collapsed": true,
        "id": "nTn7sTTMzLPW"
      },
      "source": [
        "import sympy as sp\n",
        "sp.init_printing()\n"
      ],
      "execution_count": null,
      "outputs": []
    },
    {
      "cell_type": "markdown",
      "metadata": {
        "id": "L-BsRslnzLPX"
      },
      "source": [
        "#### Part b\n",
        "Set variables x, y, z, and function f, and g."
      ]
    },
    {
      "cell_type": "code",
      "metadata": {
        "collapsed": true,
        "colab": {
          "base_uri": "https://localhost:8080/",
          "height": 38
        },
        "id": "ZTeDNMh9zLPX",
        "outputId": "1e876df7-2bec-46d8-d073-73ed6fbb46c5"
      },
      "source": [
        "x = sp.Symbol('x')\n",
        "y = sp.Symbol('y')\n",
        "z = sp.Symbol('z')\n",
        "\n",
        "f = sp.Function('f')\n",
        "g = sp.Function('g')\n",
        "g = x**2+y**2+z**2\n",
        "g"
      ],
      "execution_count": null,
      "outputs": [
        {
          "output_type": "execute_result",
          "data": {
            "image/png": "[encoded data removed]",
            "text/latex": "$\\displaystyle x^{2} + y^{2} + z^{2}$",
            "text/plain": [
              " 2    2    2\n",
              "x  + y  + z "
            ]
          },
          "metadata": {
            "tags": []
          },
          "execution_count": 15
        }
      ]
    },
    {
      "cell_type": "markdown",
      "metadata": {
        "id": "uXgPS9r3zLPX"
      },
      "source": [
        "#### Part c\n",
        "\n",
        "Set an expression for the following: $$x^2+2x-5.$$\n"
      ]
    },
    {
      "cell_type": "code",
      "metadata": {
        "collapsed": true,
        "colab": {
          "base_uri": "https://localhost:8080/",
          "height": 38
        },
        "id": "HUSnGfgtzLPX",
        "outputId": "461cd05d-4a0e-4c76-a2b0-dc29d6981ee9"
      },
      "source": [
        "h = x**2 + 2*x  - 5\n",
        "h"
      ],
      "execution_count": null,
      "outputs": [
        {
          "output_type": "execute_result",
          "data": {
            "image/png": "[encoded data removed]",
            "text/latex": "$\\displaystyle x^{2} + 2 x - 5$",
            "text/plain": [
              " 2          \n",
              "x  + 2⋅x - 5"
            ]
          },
          "metadata": {
            "tags": []
          },
          "execution_count": 14
        }
      ]
    },
    {
      "cell_type": "markdown",
      "metadata": {
        "id": "psR0f8O4zLPY"
      },
      "source": [
        " #### Part d\n",
        " \n",
        "Evaluate the expression for $x=1.5$. Also, make a variable substitution: $z$ for $x$. Do a variable substitution $y^2$ for x. "
      ]
    },
    {
      "cell_type": "code",
      "metadata": {
        "collapsed": true,
        "colab": {
          "base_uri": "https://localhost:8080/"
        },
        "id": "GNpoelPfzLPY",
        "outputId": "b1e5ac32-d869-4424-8963-46cbb27c9a4c"
      },
      "source": [
        "print(h.subs(x, 1.5))\n",
        "print(h.subs(x, z))\n",
        "print(h.subs(x, y**2))"
      ],
      "execution_count": null,
      "outputs": [
        {
          "output_type": "stream",
          "text": [
            "0.250000000000000\n",
            "z**2 + 2*z - 5\n",
            "y**4 + 2*y**2 - 5\n"
          ],
          "name": "stdout"
        }
      ]
    },
    {
      "cell_type": "markdown",
      "metadata": {
        "id": "2E3sYnnIzLPY"
      },
      "source": [
        "### Problem 2\n",
        "#### Part a\n",
        "\n",
        "Simplify the following expression:\n",
        "$$\\frac{x^2 - x - 6}{x^2-3x}.$$"
      ]
    },
    {
      "cell_type": "code",
      "metadata": {
        "colab": {
          "base_uri": "https://localhost:8080/",
          "height": 52
        },
        "id": "R91jvC-wzLPZ",
        "outputId": "fcd58ed2-85e1-4070-af19-cc5c894bdb39"
      },
      "source": [
        "f = (x**2-x-6)/(x**2-3*x)\n",
        "f\n",
        "sp.simplify(f)"
      ],
      "execution_count": null,
      "outputs": [
        {
          "output_type": "execute_result",
          "data": {
            "image/png": "[encoded data removed]",
            "text/latex": "$\\displaystyle \\frac{x + 2}{x}$",
            "text/plain": [
              "x + 2\n",
              "─────\n",
              "  x  "
            ]
          },
          "metadata": {
            "tags": []
          },
          "execution_count": 20
        }
      ]
    },
    {
      "cell_type": "markdown",
      "metadata": {
        "id": "DtjmBWUuzLPZ"
      },
      "source": [
        "#### Part b\n",
        "\n",
        "Expand the following expression symbolically: $$(x+1)^3(x-2)^2.$$"
      ]
    },
    {
      "cell_type": "code",
      "metadata": {
        "collapsed": true,
        "colab": {
          "base_uri": "https://localhost:8080/",
          "height": 38
        },
        "id": "iCBAvldmzLPa",
        "outputId": "4678550d-9df4-4296-c239-5acd6928e18d"
      },
      "source": [
        "f = ((x+1)**3)*(x-2)**2\n",
        "f\n",
        "sp.expand(f)"
      ],
      "execution_count": null,
      "outputs": [
        {
          "output_type": "execute_result",
          "data": {
            "image/png": "[encoded data removed]",
            "text/latex": "$\\displaystyle x^{5} - x^{4} - 5 x^{3} + x^{2} + 8 x + 4$",
            "text/plain": [
              " 5    4      3    2          \n",
              "x  - x  - 5⋅x  + x  + 8⋅x + 4"
            ]
          },
          "metadata": {
            "tags": []
          },
          "execution_count": 22
        }
      ]
    },
    {
      "cell_type": "markdown",
      "metadata": {
        "id": "4-bHFo_RzLPa"
      },
      "source": [
        "#### Part c\n",
        "Factor the following expression: $$3x^4 - 36x^3+99x^2-6x-144.$$"
      ]
    },
    {
      "cell_type": "code",
      "metadata": {
        "collapsed": true,
        "colab": {
          "base_uri": "https://localhost:8080/",
          "height": 38
        },
        "id": "M11PiRuOzLPa",
        "outputId": "8dafcc3c-0ec2-4c44-aae3-483d08414b1f"
      },
      "source": [
        "f = 3*x**4-36*x**3+99*x**2-6*x-144\n",
        "f\n",
        "sp.factor(f)"
      ],
      "execution_count": null,
      "outputs": [
        {
          "output_type": "execute_result",
          "data": {
            "image/png": "[encoded data removed]",
            "text/latex": "$\\displaystyle 3 \\left(x - 8\\right) \\left(x - 3\\right) \\left(x - 2\\right) \\left(x + 1\\right)$",
            "text/plain": [
              "3⋅(x - 8)⋅(x - 3)⋅(x - 2)⋅(x + 1)"
            ]
          },
          "metadata": {
            "tags": []
          },
          "execution_count": 24
        }
      ]
    },
    {
      "cell_type": "markdown",
      "metadata": {
        "id": "L5XiSrwrzLPb"
      },
      "source": [
        "### Problem 3\n",
        "#### Part a\n",
        "Compute the symbolic derivative: $$\\frac{d}{dx}\\sin^2(x)e^{2x}.$$\n",
        "Then evaluate the resulting expression for $x=3.3.$"
      ]
    },
    {
      "cell_type": "code",
      "metadata": {
        "collapsed": true,
        "colab": {
          "base_uri": "https://localhost:8080/"
        },
        "id": "7JlJxFIazLPc",
        "outputId": "8b354501-3136-4348-afcc-c0c8260aacf6"
      },
      "source": [
        "f = (sp.sin(x))**2 * sp.exp(2*x)\n",
        "f\n",
        "z = sp.diff(f, x)\n",
        "z\n",
        "print(z.subs(x, 3.3))\n"
      ],
      "execution_count": null,
      "outputs": [
        {
          "output_type": "stream",
          "text": [
            "265.596339800896\n"
          ],
          "name": "stdout"
        }
      ]
    },
    {
      "cell_type": "markdown",
      "metadata": {
        "id": "284SFec7zLPc"
      },
      "source": [
        "#### Part b\n",
        "Create a sympy expression representing the following integral:\n",
        "$$\\int_0^5x^2\\sin(x^2)dx.$$\n",
        "\n",
        "Then evaluate the integral symbolically."
      ]
    },
    {
      "cell_type": "code",
      "metadata": {
        "collapsed": true,
        "colab": {
          "base_uri": "https://localhost:8080/",
          "height": 37
        },
        "id": "OONgJ4ZjzLPd",
        "outputId": "85113768-8aa7-4f62-d20d-3a4285d17fa4"
      },
      "source": [
        "f = x**2 * sp.sin(x**2)\n",
        "f\n",
        "# solução simbolica\n",
        "g = sp.integrate (f, (x, 0, 5))\n",
        "g\n",
        "# solução numérica\n",
        "g.evalf()\n"
      ],
      "execution_count": null,
      "outputs": [
        {
          "output_type": "execute_result",
          "data": {
            "image/png": "[encoded data removed]",
            "text/latex": "$\\displaystyle -2.17227364646045$",
            "text/plain": [
              "-2.17227364646045"
            ]
          },
          "metadata": {
            "tags": []
          },
          "execution_count": 37
        }
      ]
    },
    {
      "cell_type": "markdown",
      "metadata": {
        "id": "VV4qA48ZzLPd"
      },
      "source": [
        "### Problem 4\n",
        "#### Part a\n",
        "Solve for the roots of the following equation: $$x^3+15x^2=3x-10.$$\n",
        "Use the ```Eq``` and ```solve``` functions and save as an expression. Show the expression (it will be a list). Then find the numerical value of each root using the evalf function. You can use evalf on some expression using ```my_expression.evalf()```."
      ]
    },
    {
      "cell_type": "code",
      "metadata": {
        "collapsed": true,
        "colab": {
          "base_uri": "https://localhost:8080/"
        },
        "id": "ENKcHc24zLPd",
        "outputId": "2112acc8-6647-4f27-d94e-53bf9a547362"
      },
      "source": [
        "f = sp.Eq(x**3+15*x**2, 3*x-10)\n",
        "f\n",
        "z = sp.solve(f, x)\n",
        "z\n",
        "for w in z:\n",
        "  print(w.evalf())"
      ],
      "execution_count": null,
      "outputs": [
        {
          "output_type": "stream",
          "text": [
            "0.119953874110975 + 0.801113611837881*I\n",
            "0.119953874110975 - 0.801113611837881*I\n",
            "-15.2399077482219\n"
          ],
          "name": "stdout"
        }
      ]
    },
    {
      "cell_type": "markdown",
      "metadata": {
        "id": "MK7_8nmrzLPe"
      },
      "source": [
        "#### Part b\n",
        "Solve the system of three equations in three unknowns symbolically:\n",
        "\\begin{align}\n",
        "x+y+z&=0 \\\\\n",
        "2x-y-z&=10 \\\\\n",
        "y+2z&=5\n",
        "\\end{align}\n",
        "Compare the result to the answer computed with fsolve from scipy.optimize."
      ]
    },
    {
      "cell_type": "code",
      "metadata": {
        "collapsed": true,
        "colab": {
          "base_uri": "https://localhost:8080/",
          "height": 58
        },
        "id": "_niv7Gq2zLPe",
        "outputId": "8f084e43-eb59-4cef-fbc3-7cdb2e0d124e"
      },
      "source": [
        "x,y,z = sp.symbols('x,y,z')\n",
        "eq1 = sp.Eq(x+y+z, 0)\n",
        "eq2 = sp.Eq(2*x-y-z, 10)\n",
        "eq3 = sp.Eq(y+2*z, 5)\n",
        "\n",
        "sp.solve([eq1,eq2,eq3],[x,y,z])\n",
        "\n"
      ],
      "execution_count": null,
      "outputs": [
        {
          "output_type": "execute_result",
          "data": {
            "image/png": "[encoded data removed]",
            "text/latex": "$\\displaystyle \\left\\{ x : \\frac{10}{3}, \\  y : - \\frac{35}{3}, \\  z : \\frac{25}{3}\\right\\}$",
            "text/plain": [
              "{x: 10/3, y: -35/3, z: 25/3}"
            ]
          },
          "metadata": {
            "tags": []
          },
          "execution_count": 58
        }
      ]
    },
    {
      "cell_type": "code",
      "metadata": {
        "id": "7UJ466jGOCnC",
        "colab": {
          "base_uri": "https://localhost:8080/"
        },
        "outputId": "b4fc19b7-7e5b-477c-80e2-1d8690a05b1e"
      },
      "source": [
        "from scipy.optimize import fsolve\n",
        "def f(w):\n",
        "  x = w[0]\n",
        "  y = w[1]\n",
        "  z = w[2]\n",
        "\n",
        "  f1 = x+y+z\n",
        "  f2 = 2*x-y-z-10\n",
        "  f3 = y+2*z - 5\n",
        "\n",
        "  return [f1,f2,f3]\n",
        "\n",
        "resultado = fsolve(f,[0,0,0])\n",
        "print(resultado)\n"
      ],
      "execution_count": null,
      "outputs": [
        {
          "output_type": "stream",
          "text": [
            "[  3.33333333 -11.66666667   8.33333333]\n"
          ],
          "name": "stdout"
        }
      ]
    },
    {
      "cell_type": "markdown",
      "metadata": {
        "id": "Kh9Lwi5czLPf"
      },
      "source": [
        "#### Part c\n",
        "Solve the following differential equation symbolically using the ```dsolve``` function:\n",
        "$$\\frac{df(x)}{dx} = x\\cos(x).$$"
      ]
    },
    {
      "cell_type": "code",
      "metadata": {
        "collapsed": true,
        "colab": {
          "base_uri": "https://localhost:8080/",
          "height": 38
        },
        "id": "YHFhhhK7zLPf",
        "outputId": "e9d4f87d-09cc-4443-f132-11e9279a8717"
      },
      "source": [
        "f = sp.Function('f')\n",
        "y = sp.dsolve(sp.Derivative(f(x),x) - x*sp.cos(x))\n",
        "y\n",
        "# solução alternativa\n",
        "z = sp.integrate(x*sp.cos(x))\n",
        "z"
      ],
      "execution_count": null,
      "outputs": [
        {
          "output_type": "execute_result",
          "data": {
            "image/png": "[encoded data removed]",
            "text/latex": "$\\displaystyle x \\sin{\\left(x \\right)} + \\cos{\\left(x \\right)}$",
            "text/plain": [
              "x⋅sin(x) + cos(x)"
            ]
          },
          "metadata": {
            "tags": []
          },
          "execution_count": 63
        }
      ]
    },
    {
      "cell_type": "markdown",
      "metadata": {
        "id": "xGV7zjZ0zLPf"
      },
      "source": [
        "### Problem 5\n",
        "#### Part a\n",
        "For the system $Ax=b$ with\n",
        "$$ A = \\left[\\begin{matrix}\n",
        "1 & 2 & 5 \\\\\n",
        "3 & 4 & 6 \\\\\n",
        "-1 & 0 & 3\n",
        "\\end{matrix}\\right],$$\n",
        "$$b = \\left[\\begin{matrix}\n",
        "1 \\\\\n",
        "0 \\\\\n",
        "-2\n",
        "\\end{matrix}\\right].$$\n",
        "Setup the matrices $A$ and $b$\n"
      ]
    },
    {
      "cell_type": "code",
      "metadata": {
        "collapsed": true,
        "colab": {
          "base_uri": "https://localhost:8080/",
          "height": 78
        },
        "id": "DiPlWbygzLPg",
        "outputId": "02a5c7d1-939c-4dc0-f41e-5eec4a0d7741"
      },
      "source": [
        "A = sp.Matrix([[1, 2, 5],[3, 4, 6],[-1, 0, 3]])\n",
        "A\n",
        "B = sp.Matrix([1, 0, -2])\n",
        "B"
      ],
      "execution_count": null,
      "outputs": [
        {
          "output_type": "execute_result",
          "data": {
            "text/latex": "$\\displaystyle \\left[\\begin{matrix}1\\\\0\\\\-2\\end{matrix}\\right]$",
            "text/plain": [
              "⎡1 ⎤\n",
              "⎢  ⎥\n",
              "⎢0 ⎥\n",
              "⎢  ⎥\n",
              "⎣-2⎦"
            ]
          },
          "metadata": {
            "tags": []
          },
          "execution_count": 67
        }
      ]
    },
    {
      "cell_type": "markdown",
      "metadata": {
        "id": "t1esVgyHzLPg"
      },
      "source": [
        "#### Part b\n",
        "For the system in Part a, solve for matrix $x$ by matrix algebra."
      ]
    },
    {
      "cell_type": "code",
      "metadata": {
        "collapsed": true,
        "colab": {
          "base_uri": "https://localhost:8080/"
        },
        "id": "LYCEBpiRzLPh",
        "outputId": "dbcbb1b2-09df-4349-b4b9-c742ff3cf070"
      },
      "source": [
        "sp.pprint(A.inv()*B)"
      ],
      "execution_count": null,
      "outputs": [
        {
          "output_type": "stream",
          "text": [
            "⎡ 14  ⎤\n",
            "⎢     ⎥\n",
            "⎢-33/2⎥\n",
            "⎢     ⎥\n",
            "⎣  4  ⎦\n"
          ],
          "name": "stdout"
        }
      ]
    },
    {
      "cell_type": "markdown",
      "metadata": {
        "id": "8CCesla-zLPh"
      },
      "source": [
        "#### Part c\n",
        "\n",
        "For matrix A above, return the middle row, and the middle column."
      ]
    },
    {
      "cell_type": "code",
      "metadata": {
        "collapsed": true,
        "colab": {
          "base_uri": "https://localhost:8080/"
        },
        "id": "Mwy3soZKzLPh",
        "outputId": "5f986c13-dbab-4522-dc3d-3fd00a2df214"
      },
      "source": [
        "sp.pprint(A[1:2,:])\n",
        "sp.pprint(A[:,1:2])"
      ],
      "execution_count": null,
      "outputs": [
        {
          "output_type": "stream",
          "text": [
            "[3  4  6]\n",
            "⎡2⎤\n",
            "⎢ ⎥\n",
            "⎢4⎥\n",
            "⎢ ⎥\n",
            "⎣0⎦\n"
          ],
          "name": "stdout"
        }
      ]
    },
    {
      "cell_type": "markdown",
      "metadata": {
        "id": "9QDolHnJzLPi"
      },
      "source": [
        "#### Part d\n",
        "Create a matrix $M$ using the ```zeros``` function that has 2 rows and 2 columns. Fill in some values using array notation (like M[i,j]=value)."
      ]
    },
    {
      "cell_type": "code",
      "metadata": {
        "collapsed": true,
        "colab": {
          "base_uri": "https://localhost:8080/",
          "height": 58
        },
        "id": "VI6aIH8lzLPj",
        "outputId": "1f83a9bb-dbc5-4289-c2d1-e3eadb5e465c"
      },
      "source": [
        "M = sp.Matrix.zeros(2,2)\n",
        "M\n"
      ],
      "execution_count": null,
      "outputs": [
        {
          "output_type": "execute_result",
          "data": {
            "text/latex": "$\\displaystyle \\left[\\begin{matrix}0 & 0\\\\0 & 0\\end{matrix}\\right]$",
            "text/plain": [
              "⎡0  0⎤\n",
              "⎢    ⎥\n",
              "⎣0  0⎦"
            ]
          },
          "metadata": {
            "tags": []
          },
          "execution_count": 71
        }
      ]
    }
  ]
}