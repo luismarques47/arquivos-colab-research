{
  "nbformat": 4,
  "nbformat_minor": 0,
  "metadata": {
    "colab": {
      "provenance": [],
      "authorship_tag": "ABX9TyNCYv5EfLFOPXLIMQlIrDv0",
      "include_colab_link": true
    },
    "kernelspec": {
      "name": "python3",
      "display_name": "Python 3"
    },
    "language_info": {
      "name": "python"
    }
  },
  "cells": [
    {
      "cell_type": "markdown",
      "metadata": {
        "id": "view-in-github",
        "colab_type": "text"
      },
      "source": [
        "<a href=\"https://colab.research.google.com/github/luismarques47/arquivos-colab-research/blob/master/estudo_circuitos%20_trif%C3%A1sicos.ipynb\" target=\"_parent\"><img src=\"https://colab.research.google.com/assets/colab-badge.svg\" alt=\"Open In Colab\"/></a>"
      ]
    },
    {
      "cell_type": "code",
      "execution_count": 44,
      "metadata": {
        "id": "DA41Xl2K9Uej"
      },
      "outputs": [],
      "source": [
        "import math as mt\n",
        "import sympy as sp\n",
        "import cmath as cmt\n",
        "from sympy import I, re, im, Abs, arg, conjugate, solve, Symbol, deg"
      ]
    },
    {
      "cell_type": "markdown",
      "source": [
        "Convertendo as tensões trifásicas ligadas em triângulo"
      ],
      "metadata": {
        "id": "XDL5IsdS9x32"
      }
    },
    {
      "cell_type": "code",
      "source": [
        "Van = (220/mt.sqrt(3))*mt.cos(30*mt.pi/180)-(220/mt.sqrt(3))*mt.sin(30*mt.pi/180)*1j\n",
        "\n",
        "Vbn = re(Van)*(-1) + sp.im(Van)*1j\n",
        "Vcn = 127j\n"
      ],
      "metadata": {
        "colab": {
          "base_uri": "https://localhost:8080/"
        },
        "id": "LOfYG4iX94k0",
        "outputId": "8cfd2abb-1d87-40d5-dd76-cf9c577ce4d5"
      },
      "execution_count": 54,
      "outputs": [
        {
          "output_type": "execute_result",
          "data": {
            "text/plain": [
              "127j"
            ]
          },
          "metadata": {},
          "execution_count": 54
        }
      ]
    },
    {
      "cell_type": "markdown",
      "source": [
        "determinando as impedância em estrela"
      ],
      "metadata": {
        "id": "w56TINcfCQqo"
      }
    },
    {
      "cell_type": "code",
      "source": [
        "Z1 = (-5j*10)/(-5j+10+10j)\n",
        "Z1\n"
      ],
      "metadata": {
        "colab": {
          "base_uri": "https://localhost:8080/"
        },
        "id": "ddQ6qiK6CWh2",
        "outputId": "7d77caf9-42c4-42ee-db70-bb9662a38445"
      },
      "execution_count": 35,
      "outputs": [
        {
          "output_type": "execute_result",
          "data": {
            "text/plain": [
              "127.01705922171767"
            ]
          },
          "metadata": {},
          "execution_count": 35
        }
      ]
    },
    {
      "cell_type": "code",
      "source": [
        "Z2 = (-5j*10j)/(-5j+10+10j)\n",
        "Z2"
      ],
      "metadata": {
        "colab": {
          "base_uri": "https://localhost:8080/"
        },
        "id": "-yrUaQ6kCjWT",
        "outputId": "a2c525d9-be96-450b-a20d-a5a722443764"
      },
      "execution_count": 26,
      "outputs": [
        {
          "output_type": "execute_result",
          "data": {
            "text/plain": [
              "(4-2j)"
            ]
          },
          "metadata": {},
          "execution_count": 26
        }
      ]
    },
    {
      "cell_type": "code",
      "source": [
        "Z3 = (10*10j)/(-5j+10+10j)\n",
        "Z3"
      ],
      "metadata": {
        "colab": {
          "base_uri": "https://localhost:8080/"
        },
        "id": "Gt9IHFtsCqfx",
        "outputId": "a1322131-bb44-4e43-aeed-eca1f40de003"
      },
      "execution_count": 28,
      "outputs": [
        {
          "output_type": "execute_result",
          "data": {
            "text/plain": [
              "(4+8j)"
            ]
          },
          "metadata": {},
          "execution_count": 28
        }
      ]
    },
    {
      "cell_type": "markdown",
      "source": [
        "Resolvendo as equações para I1 e I2"
      ],
      "metadata": {
        "id": "2Mxma0MVDG6r"
      }
    },
    {
      "cell_type": "code",
      "source": [
        "I1 , I2 = sp.symbols('I1,I2')\n",
        "eq1 = sp.Eq(Vbn - Van +(-2-4j)*I1+(4-2j)*(I1-I2),0)\n",
        "eq2 = sp.Eq(Vcn - Vbn +(4+8j)*I2+(4-2j)*(I2-I1),0)\n",
        "\n",
        "\n",
        "sp.solve([eq1,eq2],[I1,I2])\n"
      ],
      "metadata": {
        "colab": {
          "base_uri": "https://localhost:8080/"
        },
        "id": "rb5ZITwvDK4R",
        "outputId": "612b7912-5f0b-4010-a914-de35525b9d9a"
      },
      "execution_count": 55,
      "outputs": [
        {
          "output_type": "execute_result",
          "data": {
            "text/plain": [
              "{I1: 11.0 + 24.9491470389141*I, I2: -8.0508529610859 - 8.0508529610859*I}"
            ]
          },
          "metadata": {},
          "execution_count": 55
        }
      ]
    },
    {
      "cell_type": "code",
      "source": [
        "Ia = abs(I1)\n",
        "Ia"
      ],
      "metadata": {
        "colab": {
          "base_uri": "https://localhost:8080/",
          "height": 38
        },
        "id": "Dx9dJoOwI_wP",
        "outputId": "5c2a557f-24c8-49e2-c3ba-daf8ae9d3e31"
      },
      "execution_count": 61,
      "outputs": [
        {
          "output_type": "execute_result",
          "data": {
            "text/plain": [
              "Abs(I1)"
            ],
            "text/latex": "$\\displaystyle \\left|{I_{1}}\\right|$"
          },
          "metadata": {},
          "execution_count": 61
        }
      ]
    }
  ]
}