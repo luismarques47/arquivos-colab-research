{
  "nbformat": 4,
  "nbformat_minor": 0,
  "metadata": {
    "colab": {
      "name": "Untitled0.ipynb",
      "provenance": [],
      "include_colab_link": true
    },
    "kernelspec": {
      "name": "python3",
      "display_name": "Python 3"
    },
    "language_info": {
      "name": "python"
    }
  },
  "cells": [
    {
      "cell_type": "markdown",
      "metadata": {
        "id": "view-in-github",
        "colab_type": "text"
      },
      "source": [
        "<a href=\"https://colab.research.google.com/github/luismarques47/arquivos-colab-research/blob/master/sistemadeequacoescircuitoseletricos.ipynb\" target=\"_parent\"><img src=\"https://colab.research.google.com/assets/colab-badge.svg\" alt=\"Open In Colab\"/></a>"
      ]
    },
    {
      "cell_type": "code",
      "metadata": {
        "id": "b2QhltDNVjeJ"
      },
      "source": [
        "import sympy as sp"
      ],
      "execution_count": 1,
      "outputs": []
    },
    {
      "cell_type": "markdown",
      "metadata": {
        "id": "qNDMw_mkDMgj"
      },
      "source": [
        "colab.research.google.com\n"
      ]
    },
    {
      "cell_type": "code",
      "metadata": {
        "colab": {
          "base_uri": "https://localhost:8080/"
        },
        "id": "H74kr-CAES5V",
        "outputId": "3a7bdbfd-74d6-43a9-e303-e33f71e7913d"
      },
      "source": [
        "v1 , v2 , v3 = sp.symbols('v1,v2,v3')\n",
        "eq1 = sp.Eq(v1-v3-(35*v2)/40,0)\n",
        "eq2 = sp.Eq(v1/20+(v1-20)/2+(v3-v2)/4+v3/80+3.125*(20-v2),0)\n",
        "eq3 = sp.Eq(v2-20+v2/40+(v2-v3)/4,0)\n",
        "\n",
        "sp.solve([eq1,eq2,eq3],[v1,v2,v3])\n"
      ],
      "execution_count": 2,
      "outputs": [
        {
          "output_type": "execute_result",
          "data": {
            "text/plain": [
              "{v1: -20.2500000000000, v2: 10.0000000000000, v3: -29.0000000000000}"
            ]
          },
          "metadata": {},
          "execution_count": 2
        }
      ]
    }
  ]
}