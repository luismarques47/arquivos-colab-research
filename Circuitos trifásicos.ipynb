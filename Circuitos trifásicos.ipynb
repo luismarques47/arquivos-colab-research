{
  "nbformat": 4,
  "nbformat_minor": 0,
  "metadata": {
    "colab": {
      "provenance": [],
      "authorship_tag": "ABX9TyMqGK4FwhAaXdoL6dhCohFA",
      "include_colab_link": true
    },
    "kernelspec": {
      "name": "python3",
      "display_name": "Python 3"
    },
    "language_info": {
      "name": "python"
    }
  },
  "cells": [
    {
      "cell_type": "markdown",
      "metadata": {
        "id": "view-in-github",
        "colab_type": "text"
      },
      "source": [
        "<a href=\"https://colab.research.google.com/github/luismarques47/arquivos-colab-research/blob/master/Circuitos%20trif%C3%A1sicos.ipynb\" target=\"_parent\"><img src=\"https://colab.research.google.com/assets/colab-badge.svg\" alt=\"Open In Colab\"/></a>"
      ]
    },
    {
      "cell_type": "markdown",
      "source": [
        "Circuito trifásico ligado em estrela com carga desequilibrada em estrela"
      ],
      "metadata": {
        "id": "94XTSy2hognM"
      }
    },
    {
      "cell_type": "code",
      "execution_count": 1,
      "metadata": {
        "id": "DA41Xl2K9Uej"
      },
      "outputs": [],
      "source": [
        "import math as mt\n",
        "import sympy as sp\n",
        "import cmath as cmt\n",
        "from sympy import I\n"
      ]
    },
    {
      "cell_type": "code",
      "source": [
        "Van = 120+0j\n",
        "\n",
        "Vbn = Van*(-0.5000 - 0.8660j)\n",
        "Vbn\n",
        "Vcn = Van*(-0.5000 + 0.8660j)\n",
        "Vcn\n",
        "\n",
        "\n"
      ],
      "metadata": {
        "colab": {
          "base_uri": "https://localhost:8080/"
        },
        "id": "LOfYG4iX94k0",
        "outputId": "1f1c90a3-ff2f-4900-a27e-1233312be7ff"
      },
      "execution_count": 6,
      "outputs": [
        {
          "output_type": "execute_result",
          "data": {
            "text/plain": [
              "(-60+103.92j)"
            ]
          },
          "metadata": {},
          "execution_count": 6
        }
      ]
    },
    {
      "cell_type": "markdown",
      "source": [
        "determinando as impedância em estrela"
      ],
      "metadata": {
        "id": "w56TINcfCQqo"
      }
    },
    {
      "cell_type": "code",
      "source": [
        "Z1 = 5j\n",
        "\n"
      ],
      "metadata": {
        "id": "ddQ6qiK6CWh2"
      },
      "execution_count": 2,
      "outputs": []
    },
    {
      "cell_type": "code",
      "source": [
        "Z2 = 10\n"
      ],
      "metadata": {
        "id": "-yrUaQ6kCjWT"
      },
      "execution_count": 3,
      "outputs": []
    },
    {
      "cell_type": "code",
      "source": [
        "Z3 = -10j\n"
      ],
      "metadata": {
        "id": "Gt9IHFtsCqfx"
      },
      "execution_count": 4,
      "outputs": []
    },
    {
      "cell_type": "markdown",
      "source": [
        "Resolvendo as equações para I1 e I2"
      ],
      "metadata": {
        "id": "2Mxma0MVDG6r"
      }
    },
    {
      "cell_type": "code",
      "source": [
        "I1 , I2 = sp.symbols('I1,I2')\n",
        "eq1 = sp.Eq(Vbn - Van +Z1*I1+Z2*(I1-I2),0)\n",
        "eq2 = sp.Eq(Vcn - Vbn +Z3*I2+Z2*(I2-I1),0)\n",
        "\n",
        "\n",
        "solucoes = sp.solve([eq1,eq2],[I1,I2])\n",
        "solucoes\n"
      ],
      "metadata": {
        "colab": {
          "base_uri": "https://localhost:8080/"
        },
        "id": "rb5ZITwvDK4R",
        "outputId": "abda37fb-d63b-420d-87b3-7045dec3e133"
      },
      "execution_count": 7,
      "outputs": [
        {
          "output_type": "execute_result",
          "data": {
            "text/plain": [
              "{I1: 56.7840000000000, I2: 38.784 + 18.0*I}"
            ]
          },
          "metadata": {},
          "execution_count": 7
        }
      ]
    },
    {
      "cell_type": "code",
      "source": [
        "print(solucoes.keys())"
      ],
      "metadata": {
        "colab": {
          "base_uri": "https://localhost:8080/"
        },
        "id": "uxPMaF2bu2ET",
        "outputId": "710eeea4-b828-4280-d0cb-681426a40169"
      },
      "execution_count": 80,
      "outputs": [
        {
          "output_type": "stream",
          "name": "stdout",
          "text": [
            "dict_keys([I1, I2])\n"
          ]
        }
      ]
    },
    {
      "cell_type": "code",
      "source": [
        "I1_numerico = complex(solucoes[I1])\n",
        "I2_numerico = complex(solucoes[I2])"
      ],
      "metadata": {
        "id": "Dx9dJoOwI_wP"
      },
      "execution_count": 8,
      "outputs": []
    },
    {
      "cell_type": "code",
      "source": [
        "Ia = cmt.polar(I1_numerico)\n",
        "Ia"
      ],
      "metadata": {
        "colab": {
          "base_uri": "https://localhost:8080/"
        },
        "id": "PyxXnC8ivPBo",
        "outputId": "09b0e124-5c76-4b52-932d-9e3970847c0d"
      },
      "execution_count": 9,
      "outputs": [
        {
          "output_type": "execute_result",
          "data": {
            "text/plain": [
              "(56.784, 0.0)"
            ]
          },
          "metadata": {},
          "execution_count": 9
        }
      ]
    },
    {
      "cell_type": "code",
      "source": [
        "PHASE = (cmt.phase(I1_numerico)*180)/mt.pi\n",
        "PHASE"
      ],
      "metadata": {
        "colab": {
          "base_uri": "https://localhost:8080/"
        },
        "id": "QYYhMYNkvnln",
        "outputId": "3fe9aad2-46ab-4a3c-8fa4-dfd180da7201"
      },
      "execution_count": 10,
      "outputs": [
        {
          "output_type": "execute_result",
          "data": {
            "text/plain": [
              "0.0"
            ]
          },
          "metadata": {},
          "execution_count": 10
        }
      ]
    },
    {
      "cell_type": "code",
      "source": [
        "Ic = cmt.polar(-I2_numerico)\n",
        "Ic"
      ],
      "metadata": {
        "colab": {
          "base_uri": "https://localhost:8080/"
        },
        "id": "cyp5b8zhxzCW",
        "outputId": "60c767a8-fcd4-42cd-8436-f0d90f00bfa1"
      },
      "execution_count": 11,
      "outputs": [
        {
          "output_type": "execute_result",
          "data": {
            "text/plain": [
              "(42.75743977368149, -2.707067898274426)"
            ]
          },
          "metadata": {},
          "execution_count": 11
        }
      ]
    },
    {
      "cell_type": "code",
      "source": [
        "PHASE = (cmt.phase(-I2_numerico)*180)/mt.pi\n",
        "PHASE"
      ],
      "metadata": {
        "colab": {
          "base_uri": "https://localhost:8080/"
        },
        "id": "gJ87vAB-x5z5",
        "outputId": "af373e25-9047-431a-e551-ad5fafde864f"
      },
      "execution_count": 12,
      "outputs": [
        {
          "output_type": "execute_result",
          "data": {
            "text/plain": [
              "-155.10356542647466"
            ]
          },
          "metadata": {},
          "execution_count": 12
        }
      ]
    },
    {
      "cell_type": "code",
      "source": [
        "Ib = cmt.polar(I2_numerico-I1_numerico)\n",
        "Ib"
      ],
      "metadata": {
        "colab": {
          "base_uri": "https://localhost:8080/"
        },
        "id": "hZOkBznA3aPn",
        "outputId": "df8eecf4-9c05-4df3-d5a9-74f1b2eddb27"
      },
      "execution_count": 13,
      "outputs": [
        {
          "output_type": "execute_result",
          "data": {
            "text/plain": [
              "(25.45584412271571, 2.356194490192345)"
            ]
          },
          "metadata": {},
          "execution_count": 13
        }
      ]
    },
    {
      "cell_type": "code",
      "source": [
        "PHASE = (cmt.phase(I2_numerico-I1_numerico)*180)/mt.pi\n",
        "PHASE"
      ],
      "metadata": {
        "colab": {
          "base_uri": "https://localhost:8080/"
        },
        "id": "PVc3V7_l3pSq",
        "outputId": "6689e753-e100-4ae3-ecff-708020815514"
      },
      "execution_count": 14,
      "outputs": [
        {
          "output_type": "execute_result",
          "data": {
            "text/plain": [
              "135.0"
            ]
          },
          "metadata": {},
          "execution_count": 14
        }
      ]
    },
    {
      "cell_type": "markdown",
      "source": [
        "Circuito trifásico Ligado em triângulo"
      ],
      "metadata": {
        "id": "D-MXufmJp3sm"
      }
    },
    {
      "cell_type": "code",
      "source": [
        "Vab = 220\n",
        "\n",
        "Vbc = Vab*(-0.5000 + 0.8660j)\n",
        "\n",
        "Vca = Vab*(-0.5000 - 0.8660j)\n"
      ],
      "metadata": {
        "id": "D6vVeWKhpx6q"
      },
      "execution_count": 55,
      "outputs": []
    },
    {
      "cell_type": "code",
      "source": [
        "IaA = Vab/(-5j) - Vca/(10)\n",
        "cmt.polar(IaA)"
      ],
      "metadata": {
        "colab": {
          "base_uri": "https://localhost:8080/"
        },
        "id": "ppU-cH0xp1vN",
        "outputId": "317ee1d0-ebc7-41e9-ee13-b6f6e3bfeaca"
      },
      "execution_count": 56,
      "outputs": [
        {
          "output_type": "execute_result",
          "data": {
            "text/plain": [
              "(64.0043334782888, 1.3980754613778124)"
            ]
          },
          "metadata": {},
          "execution_count": 56
        }
      ]
    },
    {
      "cell_type": "code",
      "source": [
        "PHASE = (cmt.phase(IaA)*180)/mt.pi\n",
        "PHASE"
      ],
      "metadata": {
        "colab": {
          "base_uri": "https://localhost:8080/"
        },
        "id": "sfBykQwTvbjD",
        "outputId": "7594c954-c696-418f-a406-774b32931b91"
      },
      "execution_count": 57,
      "outputs": [
        {
          "output_type": "execute_result",
          "data": {
            "text/plain": [
              "80.10382337775398"
            ]
          },
          "metadata": {},
          "execution_count": 57
        }
      ]
    },
    {
      "cell_type": "code",
      "source": [
        "IbB = Vbc/(10j) - Vab/(-5j)\n",
        "cmt.polar(IbB)"
      ],
      "metadata": {
        "colab": {
          "base_uri": "https://localhost:8080/"
        },
        "id": "si5p9XlWvhtD",
        "outputId": "7b503a31-cb51-4bee-ed49-ae01855be495"
      },
      "execution_count": 58,
      "outputs": [
        {
          "output_type": "execute_result",
          "data": {
            "text/plain": [
              "(38.1048383279604, -1.0472102531819656)"
            ]
          },
          "metadata": {},
          "execution_count": 58
        }
      ]
    },
    {
      "cell_type": "code",
      "source": [
        "PHASE = (cmt.phase(IbB)*180)/mt.pi\n",
        "PHASE"
      ],
      "metadata": {
        "colab": {
          "base_uri": "https://localhost:8080/"
        },
        "id": "x0__BVqSv_uF",
        "outputId": "dc842fcd-8121-4f8e-c971-6df087d47d38"
      },
      "execution_count": 59,
      "outputs": [
        {
          "output_type": "execute_result",
          "data": {
            "text/plain": [
              "-60.00072777015302"
            ]
          },
          "metadata": {},
          "execution_count": 59
        }
      ]
    },
    {
      "cell_type": "code",
      "source": [
        "IcC = Vca/(10) - Vbc/(10j)\n",
        "cmt.polar(IcC)"
      ],
      "metadata": {
        "colab": {
          "base_uri": "https://localhost:8080/"
        },
        "id": "u7U-3-gdwEfh",
        "outputId": "2822c344-71f7-4f19-d43f-fecaf4866766"
      },
      "execution_count": 60,
      "outputs": [
        {
          "output_type": "execute_result",
          "data": {
            "text/plain": [
              "(42.49994597643625, -2.356194490192345)"
            ]
          },
          "metadata": {},
          "execution_count": 60
        }
      ]
    },
    {
      "cell_type": "code",
      "source": [
        "PHASE = (cmt.phase(IcC)*180)/mt.pi\n",
        "PHASE"
      ],
      "metadata": {
        "colab": {
          "base_uri": "https://localhost:8080/"
        },
        "id": "RVpeZbJYwc6X",
        "outputId": "83d5b9f8-18ad-4e2c-dbd0-fa199b686ecc"
      },
      "execution_count": 61,
      "outputs": [
        {
          "output_type": "execute_result",
          "data": {
            "text/plain": [
              "-135.0"
            ]
          },
          "metadata": {},
          "execution_count": 61
        }
      ]
    },
    {
      "cell_type": "code",
      "source": [
        "P = 220*220/10\n",
        "P"
      ],
      "metadata": {
        "colab": {
          "base_uri": "https://localhost:8080/"
        },
        "id": "qAUQNiQyyGnn",
        "outputId": "03e9890d-b093-4047-93d9-537954a54665"
      },
      "execution_count": 64,
      "outputs": [
        {
          "output_type": "execute_result",
          "data": {
            "text/plain": [
              "4840.0"
            ]
          },
          "metadata": {},
          "execution_count": 64
        }
      ]
    }
  ]
}