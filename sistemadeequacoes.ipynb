{
  "nbformat": 4,
  "nbformat_minor": 0,
  "metadata": {
    "colab": {
      "name": "Untitled0.ipynb",
      "provenance": [],
      "authorship_tag": "ABX9TyN8qKVDobB5uOafNiFZScsO",
      "include_colab_link": true
    },
    "kernelspec": {
      "name": "python3",
      "display_name": "Python 3"
    },
    "language_info": {
      "name": "python"
    }
  },
  "cells": [
    {
      "cell_type": "markdown",
      "metadata": {
        "id": "view-in-github",
        "colab_type": "text"
      },
      "source": [
        "<a href=\"https://colab.research.google.com/github/luismarques47/hello-world/blob/master/sistemadeequacoes.ipynb\" target=\"_parent\"><img src=\"https://colab.research.google.com/assets/colab-badge.svg\" alt=\"Open In Colab\"/></a>"
      ]
    },
    {
      "cell_type": "code",
      "metadata": {
        "id": "b2QhltDNVjeJ"
      },
      "source": [
        "import sympy as sp"
      ],
      "execution_count": null,
      "outputs": []
    },
    {
      "cell_type": "markdown",
      "metadata": {
        "id": "qNDMw_mkDMgj"
      },
      "source": [
        "colab.research.google.com\n"
      ]
    },
    {
      "cell_type": "code",
      "metadata": {
        "colab": {
          "base_uri": "https://localhost:8080/"
        },
        "id": "zFqCfpjoDUK9",
        "outputId": "946c1386-174f-4173-a790-26d01a4ad693"
      },
      "source": [
        "print('hello world')"
      ],
      "execution_count": null,
      "outputs": [
        {
          "output_type": "stream",
          "text": [
            "hello world\n"
          ],
          "name": "stdout"
        }
      ]
    },
    {
      "cell_type": "code",
      "metadata": {
        "colab": {
          "base_uri": "https://localhost:8080/"
        },
        "id": "m9RzV6-eDoHM",
        "outputId": "64652060-9bc0-4339-87c2-a23bf215bd14"
      },
      "source": [
        "x = 2\n",
        "y = 4\n",
        "z = x*y\n",
        "print(z)"
      ],
      "execution_count": null,
      "outputs": [
        {
          "output_type": "stream",
          "text": [
            "8\n"
          ],
          "name": "stdout"
        }
      ]
    },
    {
      "cell_type": "markdown",
      "metadata": {
        "id": "zFJWGfpZEDWH"
      },
      "source": [
        "# x + y + z = 0\n",
        "# 2x-y-z = 10\n",
        "# y+2z = 5"
      ]
    },
    {
      "cell_type": "code",
      "metadata": {
        "colab": {
          "base_uri": "https://localhost:8080/"
        },
        "id": "H74kr-CAES5V",
        "outputId": "678c85d8-5421-4ff5-c4e0-ddd0efd7f02e"
      },
      "source": [
        "x , y ,z = sp.symbols('x,y,z')\n",
        "eq1 = sp.Eq(x+y+z,0)\n",
        "eq2 = sp.Eq(2*x-y-z,10)\n",
        "eq3 = sp.Eq(y+2*z,5)\n",
        "\n",
        "sp.solve([eq1,eq2,eq3],[x,y,z])\n"
      ],
      "execution_count": null,
      "outputs": [
        {
          "output_type": "execute_result",
          "data": {
            "text/plain": [
              "{x: 10/3, y: -35/3, z: 25/3}"
            ]
          },
          "metadata": {
            "tags": []
          },
          "execution_count": 4
        }
      ]
    }
  ]
}